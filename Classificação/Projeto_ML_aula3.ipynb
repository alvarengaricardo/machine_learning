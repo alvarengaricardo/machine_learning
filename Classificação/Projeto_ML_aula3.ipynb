{
 "cells": [
  {
   "cell_type": "markdown",
   "metadata": {
    "id": "uOxsWL4fyQ2J"
   },
   "source": [
    "# Aula 1 - Classificação: o que é e como funciona?"
   ]
  },
  {
   "cell_type": "markdown",
   "metadata": {
    "id": "LsoUVpNWyQ2M"
   },
   "source": [
    "## 1.1 - Apresentação\n"
   ]
  },
  {
   "cell_type": "markdown",
   "metadata": {
    "id": "vuZVqaVCyQ2M"
   },
   "source": [
    "## 1.2 - Importando os dados"
   ]
  },
  {
   "cell_type": "code",
   "execution_count": 1,
   "metadata": {
    "id": "EcFx0fP0yQ2N"
   },
   "outputs": [],
   "source": [
    "import pandas as pd"
   ]
  },
  {
   "cell_type": "code",
   "execution_count": 2,
   "metadata": {
    "id": "jMxgxTXnyQ2O"
   },
   "outputs": [],
   "source": [
    "dados = pd.read_csv('Customer-Churn.csv')"
   ]
  },
  {
   "cell_type": "code",
   "execution_count": 3,
   "metadata": {
    "colab": {
     "base_uri": "https://localhost:8080/"
    },
    "executionInfo": {
     "elapsed": 7,
     "status": "ok",
     "timestamp": 1652934137465,
     "user": {
      "displayName": "Ana Clara Mioto",
      "userId": "02280775085590012326"
     },
     "user_tz": 180
    },
    "id": "neE16a7wyQ2O",
    "outputId": "76398158-4595-4618-b3c7-015fa1e26c80"
   },
   "outputs": [
    {
     "data": {
      "text/plain": [
       "(7043, 18)"
      ]
     },
     "execution_count": 3,
     "metadata": {},
     "output_type": "execute_result"
    }
   ],
   "source": [
    "dados.shape"
   ]
  },
  {
   "cell_type": "code",
   "execution_count": 4,
   "metadata": {
    "colab": {
     "base_uri": "https://localhost:8080/",
     "height": 270
    },
    "executionInfo": {
     "elapsed": 6,
     "status": "ok",
     "timestamp": 1652934137465,
     "user": {
      "displayName": "Ana Clara Mioto",
      "userId": "02280775085590012326"
     },
     "user_tz": 180
    },
    "id": "k_QTfXOSyQ2P",
    "outputId": "1610156a-b23b-4ce6-8479-44456f8db1bf"
   },
   "outputs": [
    {
     "data": {
      "text/html": [
       "<div>\n",
       "<style scoped>\n",
       "    .dataframe tbody tr th:only-of-type {\n",
       "        vertical-align: middle;\n",
       "    }\n",
       "\n",
       "    .dataframe tbody tr th {\n",
       "        vertical-align: top;\n",
       "    }\n",
       "\n",
       "    .dataframe thead th {\n",
       "        text-align: right;\n",
       "    }\n",
       "</style>\n",
       "<table border=\"1\" class=\"dataframe\">\n",
       "  <thead>\n",
       "    <tr style=\"text-align: right;\">\n",
       "      <th></th>\n",
       "      <th>Maior65Anos</th>\n",
       "      <th>Conjuge</th>\n",
       "      <th>Dependentes</th>\n",
       "      <th>MesesDeContrato</th>\n",
       "      <th>TelefoneFixo</th>\n",
       "      <th>VariasLinhasTelefonicas</th>\n",
       "      <th>ServicoDeInternet</th>\n",
       "      <th>SegurancaOnline</th>\n",
       "      <th>BackupOnline</th>\n",
       "      <th>SeguroNoDispositivo</th>\n",
       "      <th>SuporteTecnico</th>\n",
       "      <th>TVaCabo</th>\n",
       "      <th>StreamingDeFilmes</th>\n",
       "      <th>TipoDeContrato</th>\n",
       "      <th>PagamentoOnline</th>\n",
       "      <th>FormaDePagamento</th>\n",
       "      <th>ContaMensal</th>\n",
       "      <th>Churn</th>\n",
       "    </tr>\n",
       "  </thead>\n",
       "  <tbody>\n",
       "    <tr>\n",
       "      <th>0</th>\n",
       "      <td>0</td>\n",
       "      <td>Sim</td>\n",
       "      <td>Nao</td>\n",
       "      <td>1</td>\n",
       "      <td>Nao</td>\n",
       "      <td>SemServicoTelefonico</td>\n",
       "      <td>DSL</td>\n",
       "      <td>Nao</td>\n",
       "      <td>Sim</td>\n",
       "      <td>Nao</td>\n",
       "      <td>Nao</td>\n",
       "      <td>Nao</td>\n",
       "      <td>Nao</td>\n",
       "      <td>Mensalmente</td>\n",
       "      <td>Sim</td>\n",
       "      <td>ChequeDigital</td>\n",
       "      <td>29.85</td>\n",
       "      <td>Nao</td>\n",
       "    </tr>\n",
       "    <tr>\n",
       "      <th>1</th>\n",
       "      <td>0</td>\n",
       "      <td>Nao</td>\n",
       "      <td>Nao</td>\n",
       "      <td>34</td>\n",
       "      <td>Sim</td>\n",
       "      <td>Nao</td>\n",
       "      <td>DSL</td>\n",
       "      <td>Sim</td>\n",
       "      <td>Nao</td>\n",
       "      <td>Sim</td>\n",
       "      <td>Nao</td>\n",
       "      <td>Nao</td>\n",
       "      <td>Nao</td>\n",
       "      <td>UmAno</td>\n",
       "      <td>Nao</td>\n",
       "      <td>ChequePapel</td>\n",
       "      <td>56.95</td>\n",
       "      <td>Nao</td>\n",
       "    </tr>\n",
       "    <tr>\n",
       "      <th>2</th>\n",
       "      <td>0</td>\n",
       "      <td>Nao</td>\n",
       "      <td>Nao</td>\n",
       "      <td>2</td>\n",
       "      <td>Sim</td>\n",
       "      <td>Nao</td>\n",
       "      <td>DSL</td>\n",
       "      <td>Sim</td>\n",
       "      <td>Sim</td>\n",
       "      <td>Nao</td>\n",
       "      <td>Nao</td>\n",
       "      <td>Nao</td>\n",
       "      <td>Nao</td>\n",
       "      <td>Mensalmente</td>\n",
       "      <td>Sim</td>\n",
       "      <td>ChequePapel</td>\n",
       "      <td>53.85</td>\n",
       "      <td>Sim</td>\n",
       "    </tr>\n",
       "    <tr>\n",
       "      <th>3</th>\n",
       "      <td>0</td>\n",
       "      <td>Nao</td>\n",
       "      <td>Nao</td>\n",
       "      <td>45</td>\n",
       "      <td>Nao</td>\n",
       "      <td>SemServicoTelefonico</td>\n",
       "      <td>DSL</td>\n",
       "      <td>Sim</td>\n",
       "      <td>Nao</td>\n",
       "      <td>Sim</td>\n",
       "      <td>Sim</td>\n",
       "      <td>Nao</td>\n",
       "      <td>Nao</td>\n",
       "      <td>UmAno</td>\n",
       "      <td>Nao</td>\n",
       "      <td>DebitoEmConta</td>\n",
       "      <td>42.30</td>\n",
       "      <td>Nao</td>\n",
       "    </tr>\n",
       "    <tr>\n",
       "      <th>4</th>\n",
       "      <td>0</td>\n",
       "      <td>Nao</td>\n",
       "      <td>Nao</td>\n",
       "      <td>2</td>\n",
       "      <td>Sim</td>\n",
       "      <td>Nao</td>\n",
       "      <td>FibraOptica</td>\n",
       "      <td>Nao</td>\n",
       "      <td>Nao</td>\n",
       "      <td>Nao</td>\n",
       "      <td>Nao</td>\n",
       "      <td>Nao</td>\n",
       "      <td>Nao</td>\n",
       "      <td>Mensalmente</td>\n",
       "      <td>Sim</td>\n",
       "      <td>ChequeDigital</td>\n",
       "      <td>70.70</td>\n",
       "      <td>Sim</td>\n",
       "    </tr>\n",
       "  </tbody>\n",
       "</table>\n",
       "</div>"
      ],
      "text/plain": [
       "   Maior65Anos Conjuge Dependentes  MesesDeContrato TelefoneFixo  \\\n",
       "0            0     Sim         Nao                1          Nao   \n",
       "1            0     Nao         Nao               34          Sim   \n",
       "2            0     Nao         Nao                2          Sim   \n",
       "3            0     Nao         Nao               45          Nao   \n",
       "4            0     Nao         Nao                2          Sim   \n",
       "\n",
       "  VariasLinhasTelefonicas ServicoDeInternet SegurancaOnline BackupOnline  \\\n",
       "0    SemServicoTelefonico               DSL             Nao          Sim   \n",
       "1                     Nao               DSL             Sim          Nao   \n",
       "2                     Nao               DSL             Sim          Sim   \n",
       "3    SemServicoTelefonico               DSL             Sim          Nao   \n",
       "4                     Nao       FibraOptica             Nao          Nao   \n",
       "\n",
       "  SeguroNoDispositivo SuporteTecnico TVaCabo StreamingDeFilmes TipoDeContrato  \\\n",
       "0                 Nao            Nao     Nao               Nao    Mensalmente   \n",
       "1                 Sim            Nao     Nao               Nao          UmAno   \n",
       "2                 Nao            Nao     Nao               Nao    Mensalmente   \n",
       "3                 Sim            Sim     Nao               Nao          UmAno   \n",
       "4                 Nao            Nao     Nao               Nao    Mensalmente   \n",
       "\n",
       "  PagamentoOnline FormaDePagamento  ContaMensal Churn  \n",
       "0             Sim    ChequeDigital        29.85   Nao  \n",
       "1             Nao      ChequePapel        56.95   Nao  \n",
       "2             Sim      ChequePapel        53.85   Sim  \n",
       "3             Nao    DebitoEmConta        42.30   Nao  \n",
       "4             Sim    ChequeDigital        70.70   Sim  "
      ]
     },
     "execution_count": 4,
     "metadata": {},
     "output_type": "execute_result"
    }
   ],
   "source": [
    "dados.head()"
   ]
  },
  {
   "cell_type": "markdown",
   "metadata": {
    "id": "V8lNCeRnyQ2P"
   },
   "source": [
    "## 1.3 - Diferentes Variáveis"
   ]
  },
  {
   "cell_type": "code",
   "execution_count": 5,
   "metadata": {
    "colab": {
     "base_uri": "https://localhost:8080/",
     "height": 206
    },
    "executionInfo": {
     "elapsed": 6,
     "status": "ok",
     "timestamp": 1652934137466,
     "user": {
      "displayName": "Ana Clara Mioto",
      "userId": "02280775085590012326"
     },
     "user_tz": 180
    },
    "id": "uQLvJoZ0yQ2Q",
    "outputId": "eff5207e-82b5-49a1-b6b5-201300929646"
   },
   "outputs": [
    {
     "data": {
      "text/html": [
       "<div>\n",
       "<style scoped>\n",
       "    .dataframe tbody tr th:only-of-type {\n",
       "        vertical-align: middle;\n",
       "    }\n",
       "\n",
       "    .dataframe tbody tr th {\n",
       "        vertical-align: top;\n",
       "    }\n",
       "\n",
       "    .dataframe thead th {\n",
       "        text-align: right;\n",
       "    }\n",
       "</style>\n",
       "<table border=\"1\" class=\"dataframe\">\n",
       "  <thead>\n",
       "    <tr style=\"text-align: right;\">\n",
       "      <th></th>\n",
       "      <th>Conjuge</th>\n",
       "      <th>Dependentes</th>\n",
       "      <th>TelefoneFixo</th>\n",
       "      <th>PagamentoOnline</th>\n",
       "      <th>Churn</th>\n",
       "    </tr>\n",
       "  </thead>\n",
       "  <tbody>\n",
       "    <tr>\n",
       "      <th>0</th>\n",
       "      <td>1</td>\n",
       "      <td>0</td>\n",
       "      <td>0</td>\n",
       "      <td>1</td>\n",
       "      <td>0</td>\n",
       "    </tr>\n",
       "    <tr>\n",
       "      <th>1</th>\n",
       "      <td>0</td>\n",
       "      <td>0</td>\n",
       "      <td>1</td>\n",
       "      <td>0</td>\n",
       "      <td>0</td>\n",
       "    </tr>\n",
       "    <tr>\n",
       "      <th>2</th>\n",
       "      <td>0</td>\n",
       "      <td>0</td>\n",
       "      <td>1</td>\n",
       "      <td>1</td>\n",
       "      <td>1</td>\n",
       "    </tr>\n",
       "    <tr>\n",
       "      <th>3</th>\n",
       "      <td>0</td>\n",
       "      <td>0</td>\n",
       "      <td>0</td>\n",
       "      <td>0</td>\n",
       "      <td>0</td>\n",
       "    </tr>\n",
       "    <tr>\n",
       "      <th>4</th>\n",
       "      <td>0</td>\n",
       "      <td>0</td>\n",
       "      <td>1</td>\n",
       "      <td>1</td>\n",
       "      <td>1</td>\n",
       "    </tr>\n",
       "  </tbody>\n",
       "</table>\n",
       "</div>"
      ],
      "text/plain": [
       "   Conjuge  Dependentes  TelefoneFixo  PagamentoOnline  Churn\n",
       "0        1            0             0                1      0\n",
       "1        0            0             1                0      0\n",
       "2        0            0             1                1      1\n",
       "3        0            0             0                0      0\n",
       "4        0            0             1                1      1"
      ]
     },
     "execution_count": 5,
     "metadata": {},
     "output_type": "execute_result"
    }
   ],
   "source": [
    "#modificação de forma manual \n",
    "traducao_dic = {'Sim': 1, \n",
    "                'Nao': 0}\n",
    "\n",
    "dadosmodificados = dados[['Conjuge', 'Dependentes', 'TelefoneFixo', 'PagamentoOnline', 'Churn']].replace(traducao_dic)\n",
    "dadosmodificados.head()"
   ]
  },
  {
   "cell_type": "code",
   "execution_count": 6,
   "metadata": {
    "id": "0Dc3-8wayQ2R"
   },
   "outputs": [],
   "source": [
    "#transformação pelo get_dummies\n",
    "dummie_dados = pd.get_dummies(dados.drop(['Conjuge', 'Dependentes', 'TelefoneFixo', 'PagamentoOnline', 'Churn'],\n",
    "                axis=1))\n",
    "\n",
    "#junção dos dados trasformados com os que já tinhamos\n",
    "dados_final = pd.concat([dadosmodificados, dummie_dados], axis=1)"
   ]
  },
  {
   "cell_type": "code",
   "execution_count": 7,
   "metadata": {
    "colab": {
     "base_uri": "https://localhost:8080/",
     "height": 300
    },
    "executionInfo": {
     "elapsed": 399,
     "status": "ok",
     "timestamp": 1652934137860,
     "user": {
      "displayName": "Ana Clara Mioto",
      "userId": "02280775085590012326"
     },
     "user_tz": 180
    },
    "id": "UmQrjUnh08vu",
    "outputId": "220aa24f-016c-4f9d-ce34-2928766087d2"
   },
   "outputs": [
    {
     "data": {
      "text/html": [
       "<div>\n",
       "<style scoped>\n",
       "    .dataframe tbody tr th:only-of-type {\n",
       "        vertical-align: middle;\n",
       "    }\n",
       "\n",
       "    .dataframe tbody tr th {\n",
       "        vertical-align: top;\n",
       "    }\n",
       "\n",
       "    .dataframe thead th {\n",
       "        text-align: right;\n",
       "    }\n",
       "</style>\n",
       "<table border=\"1\" class=\"dataframe\">\n",
       "  <thead>\n",
       "    <tr style=\"text-align: right;\">\n",
       "      <th></th>\n",
       "      <th>Conjuge</th>\n",
       "      <th>Dependentes</th>\n",
       "      <th>TelefoneFixo</th>\n",
       "      <th>PagamentoOnline</th>\n",
       "      <th>Churn</th>\n",
       "      <th>Maior65Anos</th>\n",
       "      <th>MesesDeContrato</th>\n",
       "      <th>ContaMensal</th>\n",
       "      <th>VariasLinhasTelefonicas_Nao</th>\n",
       "      <th>VariasLinhasTelefonicas_SemServicoTelefonico</th>\n",
       "      <th>...</th>\n",
       "      <th>StreamingDeFilmes_Nao</th>\n",
       "      <th>StreamingDeFilmes_SemServicoDeInternet</th>\n",
       "      <th>StreamingDeFilmes_Sim</th>\n",
       "      <th>TipoDeContrato_DoisAnos</th>\n",
       "      <th>TipoDeContrato_Mensalmente</th>\n",
       "      <th>TipoDeContrato_UmAno</th>\n",
       "      <th>FormaDePagamento_CartaoDeCredito</th>\n",
       "      <th>FormaDePagamento_ChequeDigital</th>\n",
       "      <th>FormaDePagamento_ChequePapel</th>\n",
       "      <th>FormaDePagamento_DebitoEmConta</th>\n",
       "    </tr>\n",
       "  </thead>\n",
       "  <tbody>\n",
       "    <tr>\n",
       "      <th>0</th>\n",
       "      <td>1</td>\n",
       "      <td>0</td>\n",
       "      <td>0</td>\n",
       "      <td>1</td>\n",
       "      <td>0</td>\n",
       "      <td>0</td>\n",
       "      <td>1</td>\n",
       "      <td>29.85</td>\n",
       "      <td>0</td>\n",
       "      <td>1</td>\n",
       "      <td>...</td>\n",
       "      <td>1</td>\n",
       "      <td>0</td>\n",
       "      <td>0</td>\n",
       "      <td>0</td>\n",
       "      <td>1</td>\n",
       "      <td>0</td>\n",
       "      <td>0</td>\n",
       "      <td>1</td>\n",
       "      <td>0</td>\n",
       "      <td>0</td>\n",
       "    </tr>\n",
       "    <tr>\n",
       "      <th>1</th>\n",
       "      <td>0</td>\n",
       "      <td>0</td>\n",
       "      <td>1</td>\n",
       "      <td>0</td>\n",
       "      <td>0</td>\n",
       "      <td>0</td>\n",
       "      <td>34</td>\n",
       "      <td>56.95</td>\n",
       "      <td>1</td>\n",
       "      <td>0</td>\n",
       "      <td>...</td>\n",
       "      <td>1</td>\n",
       "      <td>0</td>\n",
       "      <td>0</td>\n",
       "      <td>0</td>\n",
       "      <td>0</td>\n",
       "      <td>1</td>\n",
       "      <td>0</td>\n",
       "      <td>0</td>\n",
       "      <td>1</td>\n",
       "      <td>0</td>\n",
       "    </tr>\n",
       "    <tr>\n",
       "      <th>2</th>\n",
       "      <td>0</td>\n",
       "      <td>0</td>\n",
       "      <td>1</td>\n",
       "      <td>1</td>\n",
       "      <td>1</td>\n",
       "      <td>0</td>\n",
       "      <td>2</td>\n",
       "      <td>53.85</td>\n",
       "      <td>1</td>\n",
       "      <td>0</td>\n",
       "      <td>...</td>\n",
       "      <td>1</td>\n",
       "      <td>0</td>\n",
       "      <td>0</td>\n",
       "      <td>0</td>\n",
       "      <td>1</td>\n",
       "      <td>0</td>\n",
       "      <td>0</td>\n",
       "      <td>0</td>\n",
       "      <td>1</td>\n",
       "      <td>0</td>\n",
       "    </tr>\n",
       "    <tr>\n",
       "      <th>3</th>\n",
       "      <td>0</td>\n",
       "      <td>0</td>\n",
       "      <td>0</td>\n",
       "      <td>0</td>\n",
       "      <td>0</td>\n",
       "      <td>0</td>\n",
       "      <td>45</td>\n",
       "      <td>42.30</td>\n",
       "      <td>0</td>\n",
       "      <td>1</td>\n",
       "      <td>...</td>\n",
       "      <td>1</td>\n",
       "      <td>0</td>\n",
       "      <td>0</td>\n",
       "      <td>0</td>\n",
       "      <td>0</td>\n",
       "      <td>1</td>\n",
       "      <td>0</td>\n",
       "      <td>0</td>\n",
       "      <td>0</td>\n",
       "      <td>1</td>\n",
       "    </tr>\n",
       "    <tr>\n",
       "      <th>4</th>\n",
       "      <td>0</td>\n",
       "      <td>0</td>\n",
       "      <td>1</td>\n",
       "      <td>1</td>\n",
       "      <td>1</td>\n",
       "      <td>0</td>\n",
       "      <td>2</td>\n",
       "      <td>70.70</td>\n",
       "      <td>1</td>\n",
       "      <td>0</td>\n",
       "      <td>...</td>\n",
       "      <td>1</td>\n",
       "      <td>0</td>\n",
       "      <td>0</td>\n",
       "      <td>0</td>\n",
       "      <td>1</td>\n",
       "      <td>0</td>\n",
       "      <td>0</td>\n",
       "      <td>1</td>\n",
       "      <td>0</td>\n",
       "      <td>0</td>\n",
       "    </tr>\n",
       "  </tbody>\n",
       "</table>\n",
       "<p>5 rows × 39 columns</p>\n",
       "</div>"
      ],
      "text/plain": [
       "   Conjuge  Dependentes  TelefoneFixo  PagamentoOnline  Churn  Maior65Anos  \\\n",
       "0        1            0             0                1      0            0   \n",
       "1        0            0             1                0      0            0   \n",
       "2        0            0             1                1      1            0   \n",
       "3        0            0             0                0      0            0   \n",
       "4        0            0             1                1      1            0   \n",
       "\n",
       "   MesesDeContrato  ContaMensal  VariasLinhasTelefonicas_Nao  \\\n",
       "0                1        29.85                            0   \n",
       "1               34        56.95                            1   \n",
       "2                2        53.85                            1   \n",
       "3               45        42.30                            0   \n",
       "4                2        70.70                            1   \n",
       "\n",
       "   VariasLinhasTelefonicas_SemServicoTelefonico  ...  StreamingDeFilmes_Nao  \\\n",
       "0                                             1  ...                      1   \n",
       "1                                             0  ...                      1   \n",
       "2                                             0  ...                      1   \n",
       "3                                             1  ...                      1   \n",
       "4                                             0  ...                      1   \n",
       "\n",
       "   StreamingDeFilmes_SemServicoDeInternet  StreamingDeFilmes_Sim  \\\n",
       "0                                       0                      0   \n",
       "1                                       0                      0   \n",
       "2                                       0                      0   \n",
       "3                                       0                      0   \n",
       "4                                       0                      0   \n",
       "\n",
       "   TipoDeContrato_DoisAnos  TipoDeContrato_Mensalmente  TipoDeContrato_UmAno  \\\n",
       "0                        0                           1                     0   \n",
       "1                        0                           0                     1   \n",
       "2                        0                           1                     0   \n",
       "3                        0                           0                     1   \n",
       "4                        0                           1                     0   \n",
       "\n",
       "   FormaDePagamento_CartaoDeCredito  FormaDePagamento_ChequeDigital  \\\n",
       "0                                 0                               1   \n",
       "1                                 0                               0   \n",
       "2                                 0                               0   \n",
       "3                                 0                               0   \n",
       "4                                 0                               1   \n",
       "\n",
       "   FormaDePagamento_ChequePapel  FormaDePagamento_DebitoEmConta  \n",
       "0                             0                               0  \n",
       "1                             1                               0  \n",
       "2                             1                               0  \n",
       "3                             0                               1  \n",
       "4                             0                               0  \n",
       "\n",
       "[5 rows x 39 columns]"
      ]
     },
     "execution_count": 7,
     "metadata": {},
     "output_type": "execute_result"
    }
   ],
   "source": [
    "dados_final.head()"
   ]
  },
  {
   "cell_type": "markdown",
   "metadata": {
    "id": "B1O1hFa-3wr9"
   },
   "source": [
    "## 1.4 - Definição Informal\n",
    "\n",
    "(slides)"
   ]
  },
  {
   "cell_type": "markdown",
   "metadata": {
    "id": "D1YLHA3h37s1"
   },
   "source": [
    "## 1.5 - Definição Formal"
   ]
  },
  {
   "cell_type": "markdown",
   "metadata": {
    "id": "sSgnt7QWM5rm"
   },
   "source": [
    "Informações para classificação:\n",
    "\n",
    "$X$ = inputs (dados de entrada)\n",
    "\n",
    "$y$ = outputs (dados de saída)"
   ]
  },
  {
   "cell_type": "code",
   "execution_count": 8,
   "metadata": {
    "id": "k_o0S4UyOqzd"
   },
   "outputs": [],
   "source": [
    "#DICA\n",
    "pd.set_option('display.max_columns', 39)"
   ]
  },
  {
   "cell_type": "code",
   "execution_count": 9,
   "metadata": {
    "colab": {
     "base_uri": "https://localhost:8080/",
     "height": 270
    },
    "executionInfo": {
     "elapsed": 6,
     "status": "ok",
     "timestamp": 1652934137861,
     "user": {
      "displayName": "Ana Clara Mioto",
      "userId": "02280775085590012326"
     },
     "user_tz": 180
    },
    "id": "oiHVlSC737NE",
    "outputId": "04517f72-9c16-4a45-9a21-11ef1f9d85df"
   },
   "outputs": [
    {
     "data": {
      "text/html": [
       "<div>\n",
       "<style scoped>\n",
       "    .dataframe tbody tr th:only-of-type {\n",
       "        vertical-align: middle;\n",
       "    }\n",
       "\n",
       "    .dataframe tbody tr th {\n",
       "        vertical-align: top;\n",
       "    }\n",
       "\n",
       "    .dataframe thead th {\n",
       "        text-align: right;\n",
       "    }\n",
       "</style>\n",
       "<table border=\"1\" class=\"dataframe\">\n",
       "  <thead>\n",
       "    <tr style=\"text-align: right;\">\n",
       "      <th></th>\n",
       "      <th>Conjuge</th>\n",
       "      <th>Dependentes</th>\n",
       "      <th>TelefoneFixo</th>\n",
       "      <th>PagamentoOnline</th>\n",
       "      <th>Churn</th>\n",
       "      <th>Maior65Anos</th>\n",
       "      <th>MesesDeContrato</th>\n",
       "      <th>ContaMensal</th>\n",
       "      <th>VariasLinhasTelefonicas_Nao</th>\n",
       "      <th>VariasLinhasTelefonicas_SemServicoTelefonico</th>\n",
       "      <th>VariasLinhasTelefonicas_Sim</th>\n",
       "      <th>ServicoDeInternet_DSL</th>\n",
       "      <th>ServicoDeInternet_FibraOptica</th>\n",
       "      <th>ServicoDeInternet_Nao</th>\n",
       "      <th>SegurancaOnline_Nao</th>\n",
       "      <th>SegurancaOnline_SemServicoDeInternet</th>\n",
       "      <th>SegurancaOnline_Sim</th>\n",
       "      <th>BackupOnline_Nao</th>\n",
       "      <th>BackupOnline_SemServicoDeInternet</th>\n",
       "      <th>BackupOnline_Sim</th>\n",
       "      <th>SeguroNoDispositivo_Nao</th>\n",
       "      <th>SeguroNoDispositivo_SemServicoDeInternet</th>\n",
       "      <th>SeguroNoDispositivo_Sim</th>\n",
       "      <th>SuporteTecnico_Nao</th>\n",
       "      <th>SuporteTecnico_SemServicoDeInternet</th>\n",
       "      <th>SuporteTecnico_Sim</th>\n",
       "      <th>TVaCabo_Nao</th>\n",
       "      <th>TVaCabo_SemServicoDeInternet</th>\n",
       "      <th>TVaCabo_Sim</th>\n",
       "      <th>StreamingDeFilmes_Nao</th>\n",
       "      <th>StreamingDeFilmes_SemServicoDeInternet</th>\n",
       "      <th>StreamingDeFilmes_Sim</th>\n",
       "      <th>TipoDeContrato_DoisAnos</th>\n",
       "      <th>TipoDeContrato_Mensalmente</th>\n",
       "      <th>TipoDeContrato_UmAno</th>\n",
       "      <th>FormaDePagamento_CartaoDeCredito</th>\n",
       "      <th>FormaDePagamento_ChequeDigital</th>\n",
       "      <th>FormaDePagamento_ChequePapel</th>\n",
       "      <th>FormaDePagamento_DebitoEmConta</th>\n",
       "    </tr>\n",
       "  </thead>\n",
       "  <tbody>\n",
       "    <tr>\n",
       "      <th>0</th>\n",
       "      <td>1</td>\n",
       "      <td>0</td>\n",
       "      <td>0</td>\n",
       "      <td>1</td>\n",
       "      <td>0</td>\n",
       "      <td>0</td>\n",
       "      <td>1</td>\n",
       "      <td>29.85</td>\n",
       "      <td>0</td>\n",
       "      <td>1</td>\n",
       "      <td>0</td>\n",
       "      <td>1</td>\n",
       "      <td>0</td>\n",
       "      <td>0</td>\n",
       "      <td>1</td>\n",
       "      <td>0</td>\n",
       "      <td>0</td>\n",
       "      <td>0</td>\n",
       "      <td>0</td>\n",
       "      <td>1</td>\n",
       "      <td>1</td>\n",
       "      <td>0</td>\n",
       "      <td>0</td>\n",
       "      <td>1</td>\n",
       "      <td>0</td>\n",
       "      <td>0</td>\n",
       "      <td>1</td>\n",
       "      <td>0</td>\n",
       "      <td>0</td>\n",
       "      <td>1</td>\n",
       "      <td>0</td>\n",
       "      <td>0</td>\n",
       "      <td>0</td>\n",
       "      <td>1</td>\n",
       "      <td>0</td>\n",
       "      <td>0</td>\n",
       "      <td>1</td>\n",
       "      <td>0</td>\n",
       "      <td>0</td>\n",
       "    </tr>\n",
       "    <tr>\n",
       "      <th>1</th>\n",
       "      <td>0</td>\n",
       "      <td>0</td>\n",
       "      <td>1</td>\n",
       "      <td>0</td>\n",
       "      <td>0</td>\n",
       "      <td>0</td>\n",
       "      <td>34</td>\n",
       "      <td>56.95</td>\n",
       "      <td>1</td>\n",
       "      <td>0</td>\n",
       "      <td>0</td>\n",
       "      <td>1</td>\n",
       "      <td>0</td>\n",
       "      <td>0</td>\n",
       "      <td>0</td>\n",
       "      <td>0</td>\n",
       "      <td>1</td>\n",
       "      <td>1</td>\n",
       "      <td>0</td>\n",
       "      <td>0</td>\n",
       "      <td>0</td>\n",
       "      <td>0</td>\n",
       "      <td>1</td>\n",
       "      <td>1</td>\n",
       "      <td>0</td>\n",
       "      <td>0</td>\n",
       "      <td>1</td>\n",
       "      <td>0</td>\n",
       "      <td>0</td>\n",
       "      <td>1</td>\n",
       "      <td>0</td>\n",
       "      <td>0</td>\n",
       "      <td>0</td>\n",
       "      <td>0</td>\n",
       "      <td>1</td>\n",
       "      <td>0</td>\n",
       "      <td>0</td>\n",
       "      <td>1</td>\n",
       "      <td>0</td>\n",
       "    </tr>\n",
       "    <tr>\n",
       "      <th>2</th>\n",
       "      <td>0</td>\n",
       "      <td>0</td>\n",
       "      <td>1</td>\n",
       "      <td>1</td>\n",
       "      <td>1</td>\n",
       "      <td>0</td>\n",
       "      <td>2</td>\n",
       "      <td>53.85</td>\n",
       "      <td>1</td>\n",
       "      <td>0</td>\n",
       "      <td>0</td>\n",
       "      <td>1</td>\n",
       "      <td>0</td>\n",
       "      <td>0</td>\n",
       "      <td>0</td>\n",
       "      <td>0</td>\n",
       "      <td>1</td>\n",
       "      <td>0</td>\n",
       "      <td>0</td>\n",
       "      <td>1</td>\n",
       "      <td>1</td>\n",
       "      <td>0</td>\n",
       "      <td>0</td>\n",
       "      <td>1</td>\n",
       "      <td>0</td>\n",
       "      <td>0</td>\n",
       "      <td>1</td>\n",
       "      <td>0</td>\n",
       "      <td>0</td>\n",
       "      <td>1</td>\n",
       "      <td>0</td>\n",
       "      <td>0</td>\n",
       "      <td>0</td>\n",
       "      <td>1</td>\n",
       "      <td>0</td>\n",
       "      <td>0</td>\n",
       "      <td>0</td>\n",
       "      <td>1</td>\n",
       "      <td>0</td>\n",
       "    </tr>\n",
       "    <tr>\n",
       "      <th>3</th>\n",
       "      <td>0</td>\n",
       "      <td>0</td>\n",
       "      <td>0</td>\n",
       "      <td>0</td>\n",
       "      <td>0</td>\n",
       "      <td>0</td>\n",
       "      <td>45</td>\n",
       "      <td>42.30</td>\n",
       "      <td>0</td>\n",
       "      <td>1</td>\n",
       "      <td>0</td>\n",
       "      <td>1</td>\n",
       "      <td>0</td>\n",
       "      <td>0</td>\n",
       "      <td>0</td>\n",
       "      <td>0</td>\n",
       "      <td>1</td>\n",
       "      <td>1</td>\n",
       "      <td>0</td>\n",
       "      <td>0</td>\n",
       "      <td>0</td>\n",
       "      <td>0</td>\n",
       "      <td>1</td>\n",
       "      <td>0</td>\n",
       "      <td>0</td>\n",
       "      <td>1</td>\n",
       "      <td>1</td>\n",
       "      <td>0</td>\n",
       "      <td>0</td>\n",
       "      <td>1</td>\n",
       "      <td>0</td>\n",
       "      <td>0</td>\n",
       "      <td>0</td>\n",
       "      <td>0</td>\n",
       "      <td>1</td>\n",
       "      <td>0</td>\n",
       "      <td>0</td>\n",
       "      <td>0</td>\n",
       "      <td>1</td>\n",
       "    </tr>\n",
       "    <tr>\n",
       "      <th>4</th>\n",
       "      <td>0</td>\n",
       "      <td>0</td>\n",
       "      <td>1</td>\n",
       "      <td>1</td>\n",
       "      <td>1</td>\n",
       "      <td>0</td>\n",
       "      <td>2</td>\n",
       "      <td>70.70</td>\n",
       "      <td>1</td>\n",
       "      <td>0</td>\n",
       "      <td>0</td>\n",
       "      <td>0</td>\n",
       "      <td>1</td>\n",
       "      <td>0</td>\n",
       "      <td>1</td>\n",
       "      <td>0</td>\n",
       "      <td>0</td>\n",
       "      <td>1</td>\n",
       "      <td>0</td>\n",
       "      <td>0</td>\n",
       "      <td>1</td>\n",
       "      <td>0</td>\n",
       "      <td>0</td>\n",
       "      <td>1</td>\n",
       "      <td>0</td>\n",
       "      <td>0</td>\n",
       "      <td>1</td>\n",
       "      <td>0</td>\n",
       "      <td>0</td>\n",
       "      <td>1</td>\n",
       "      <td>0</td>\n",
       "      <td>0</td>\n",
       "      <td>0</td>\n",
       "      <td>1</td>\n",
       "      <td>0</td>\n",
       "      <td>0</td>\n",
       "      <td>1</td>\n",
       "      <td>0</td>\n",
       "      <td>0</td>\n",
       "    </tr>\n",
       "  </tbody>\n",
       "</table>\n",
       "</div>"
      ],
      "text/plain": [
       "   Conjuge  Dependentes  TelefoneFixo  PagamentoOnline  Churn  Maior65Anos  \\\n",
       "0        1            0             0                1      0            0   \n",
       "1        0            0             1                0      0            0   \n",
       "2        0            0             1                1      1            0   \n",
       "3        0            0             0                0      0            0   \n",
       "4        0            0             1                1      1            0   \n",
       "\n",
       "   MesesDeContrato  ContaMensal  VariasLinhasTelefonicas_Nao  \\\n",
       "0                1        29.85                            0   \n",
       "1               34        56.95                            1   \n",
       "2                2        53.85                            1   \n",
       "3               45        42.30                            0   \n",
       "4                2        70.70                            1   \n",
       "\n",
       "   VariasLinhasTelefonicas_SemServicoTelefonico  VariasLinhasTelefonicas_Sim  \\\n",
       "0                                             1                            0   \n",
       "1                                             0                            0   \n",
       "2                                             0                            0   \n",
       "3                                             1                            0   \n",
       "4                                             0                            0   \n",
       "\n",
       "   ServicoDeInternet_DSL  ServicoDeInternet_FibraOptica  \\\n",
       "0                      1                              0   \n",
       "1                      1                              0   \n",
       "2                      1                              0   \n",
       "3                      1                              0   \n",
       "4                      0                              1   \n",
       "\n",
       "   ServicoDeInternet_Nao  SegurancaOnline_Nao  \\\n",
       "0                      0                    1   \n",
       "1                      0                    0   \n",
       "2                      0                    0   \n",
       "3                      0                    0   \n",
       "4                      0                    1   \n",
       "\n",
       "   SegurancaOnline_SemServicoDeInternet  SegurancaOnline_Sim  \\\n",
       "0                                     0                    0   \n",
       "1                                     0                    1   \n",
       "2                                     0                    1   \n",
       "3                                     0                    1   \n",
       "4                                     0                    0   \n",
       "\n",
       "   BackupOnline_Nao  BackupOnline_SemServicoDeInternet  BackupOnline_Sim  \\\n",
       "0                 0                                  0                 1   \n",
       "1                 1                                  0                 0   \n",
       "2                 0                                  0                 1   \n",
       "3                 1                                  0                 0   \n",
       "4                 1                                  0                 0   \n",
       "\n",
       "   SeguroNoDispositivo_Nao  SeguroNoDispositivo_SemServicoDeInternet  \\\n",
       "0                        1                                         0   \n",
       "1                        0                                         0   \n",
       "2                        1                                         0   \n",
       "3                        0                                         0   \n",
       "4                        1                                         0   \n",
       "\n",
       "   SeguroNoDispositivo_Sim  SuporteTecnico_Nao  \\\n",
       "0                        0                   1   \n",
       "1                        1                   1   \n",
       "2                        0                   1   \n",
       "3                        1                   0   \n",
       "4                        0                   1   \n",
       "\n",
       "   SuporteTecnico_SemServicoDeInternet  SuporteTecnico_Sim  TVaCabo_Nao  \\\n",
       "0                                    0                   0            1   \n",
       "1                                    0                   0            1   \n",
       "2                                    0                   0            1   \n",
       "3                                    0                   1            1   \n",
       "4                                    0                   0            1   \n",
       "\n",
       "   TVaCabo_SemServicoDeInternet  TVaCabo_Sim  StreamingDeFilmes_Nao  \\\n",
       "0                             0            0                      1   \n",
       "1                             0            0                      1   \n",
       "2                             0            0                      1   \n",
       "3                             0            0                      1   \n",
       "4                             0            0                      1   \n",
       "\n",
       "   StreamingDeFilmes_SemServicoDeInternet  StreamingDeFilmes_Sim  \\\n",
       "0                                       0                      0   \n",
       "1                                       0                      0   \n",
       "2                                       0                      0   \n",
       "3                                       0                      0   \n",
       "4                                       0                      0   \n",
       "\n",
       "   TipoDeContrato_DoisAnos  TipoDeContrato_Mensalmente  TipoDeContrato_UmAno  \\\n",
       "0                        0                           1                     0   \n",
       "1                        0                           0                     1   \n",
       "2                        0                           1                     0   \n",
       "3                        0                           0                     1   \n",
       "4                        0                           1                     0   \n",
       "\n",
       "   FormaDePagamento_CartaoDeCredito  FormaDePagamento_ChequeDigital  \\\n",
       "0                                 0                               1   \n",
       "1                                 0                               0   \n",
       "2                                 0                               0   \n",
       "3                                 0                               0   \n",
       "4                                 0                               1   \n",
       "\n",
       "   FormaDePagamento_ChequePapel  FormaDePagamento_DebitoEmConta  \n",
       "0                             0                               0  \n",
       "1                             1                               0  \n",
       "2                             1                               0  \n",
       "3                             0                               1  \n",
       "4                             0                               0  "
      ]
     },
     "execution_count": 9,
     "metadata": {},
     "output_type": "execute_result"
    }
   ],
   "source": [
    "dados_final.head()"
   ]
  },
  {
   "cell_type": "markdown",
   "metadata": {
    "id": "mlxxn4VYTQnV"
   },
   "source": [
    "\n",
    "$y_i$ = $f(x_i)$"
   ]
  },
  {
   "cell_type": "code",
   "execution_count": 10,
   "metadata": {
    "id": "JVqSH1yp4Cq2"
   },
   "outputs": [],
   "source": [
    "Xmaria = [[0,0,1,1,0,0,39.90,1,0,0,0,1,0,1,0,0,0,0,1,1,1,0,0,1,0,1,0,0,0,0,1,0,0,1,0,0,0,1]]"
   ]
  },
  {
   "cell_type": "code",
   "execution_count": 11,
   "metadata": {
    "id": "1Btl3Wct4CoN"
   },
   "outputs": [],
   "source": [
    "#ymaria = ?"
   ]
  },
  {
   "cell_type": "markdown",
   "metadata": {
    "id": "n4nyxwPFTncE"
   },
   "source": [
    "Novos pares de informações = ($Xmaria$, $ymaria$)"
   ]
  },
  {
   "cell_type": "markdown",
   "metadata": {
    "id": "zCcuXt0FZfNe"
   },
   "source": [
    "## Balanceamento dos dados"
   ]
  },
  {
   "cell_type": "code",
   "execution_count": 12,
   "metadata": {
    "colab": {
     "base_uri": "https://localhost:8080/"
    },
    "executionInfo": {
     "elapsed": 490,
     "status": "ok",
     "timestamp": 1652934138347,
     "user": {
      "displayName": "Ana Clara Mioto",
      "userId": "02280775085590012326"
     },
     "user_tz": 180
    },
    "id": "PZ98-642QERQ",
    "outputId": "effcd349-a5cd-4d6b-a40f-48819638ce70"
   },
   "outputs": [
    {
     "data": {
      "image/png": "[encoded data removed]",
      "text/plain": [
       "<Figure size 432x288 with 1 Axes>"
      ]
     },
     "metadata": {
      "needs_background": "light"
     },
     "output_type": "display_data"
    }
   ],
   "source": [
    "#variável target está desbalanceada\n",
    "import seaborn as sns\n",
    "%matplotlib inline\n",
    "ax = sns.countplot(x='Churn', data=dados_final)"
   ]
  },
  {
   "cell_type": "code",
   "execution_count": 13,
   "metadata": {
    "colab": {
     "base_uri": "https://localhost:8080/"
    },
    "executionInfo": {
     "elapsed": 5,
     "status": "ok",
     "timestamp": 1652934138348,
     "user": {
      "displayName": "Ana Clara Mioto",
      "userId": "02280775085590012326"
     },
     "user_tz": 180
    },
    "id": "tDmNwxUGQt0U",
    "outputId": "05e18b50-1db7-4ba9-b26f-0991fa0ff739"
   },
   "outputs": [
    {
     "data": {
      "text/plain": [
       "0    5174\n",
       "1    1869\n",
       "Name: Churn, dtype: int64"
      ]
     },
     "execution_count": 13,
     "metadata": {},
     "output_type": "execute_result"
    }
   ],
   "source": [
    "dados_final.Churn.value_counts()"
   ]
  },
  {
   "cell_type": "code",
   "execution_count": 14,
   "metadata": {
    "id": "TcFY4SXuZyIO"
   },
   "outputs": [
    {
     "ename": "ImportError",
     "evalue": "cannot import name '_OneToOneFeatureMixin' from 'sklearn.base' (C:\\Users\\Ricardo\\AppData\\Local\\Programs\\Python\\Python38\\lib\\site-packages\\sklearn\\base.py)",
     "output_type": "error",
     "traceback": [
      "\u001b[1;31m---------------------------------------------------------------------------\u001b[0m",
      "\u001b[1;31mImportError\u001b[0m                               Traceback (most recent call last)",
      "File \u001b[1;32m~\\AppData\\Local\\Programs\\Python\\Python38\\lib\\site-packages\\imblearn\\base.py:14\u001b[0m, in \u001b[0;36m<module>\u001b[1;34m\u001b[0m\n\u001b[0;32m     12\u001b[0m \u001b[38;5;28;01mtry\u001b[39;00m:\n\u001b[0;32m     13\u001b[0m     \u001b[38;5;66;03m# scikit-learn >= 1.2\u001b[39;00m\n\u001b[1;32m---> 14\u001b[0m     \u001b[38;5;28;01mfrom\u001b[39;00m \u001b[38;5;21;01msklearn\u001b[39;00m\u001b[38;5;21;01m.\u001b[39;00m\u001b[38;5;21;01mbase\u001b[39;00m \u001b[38;5;28;01mimport\u001b[39;00m OneToOneFeatureMixin\n\u001b[0;32m     15\u001b[0m \u001b[38;5;28;01mexcept\u001b[39;00m \u001b[38;5;167;01mImportError\u001b[39;00m:\n",
      "\u001b[1;31mImportError\u001b[0m: cannot import name 'OneToOneFeatureMixin' from 'sklearn.base' (C:\\Users\\Ricardo\\AppData\\Local\\Programs\\Python\\Python38\\lib\\site-packages\\sklearn\\base.py)",
      "\nDuring handling of the above exception, another exception occurred:\n",
      "\u001b[1;31mImportError\u001b[0m                               Traceback (most recent call last)",
      "Input \u001b[1;32mIn [14]\u001b[0m, in \u001b[0;36m<module>\u001b[1;34m\u001b[0m\n\u001b[0;32m      1\u001b[0m \u001b[38;5;66;03m#biblioteca para balancear os dados utilizando over_sampling\u001b[39;00m\n\u001b[1;32m----> 2\u001b[0m \u001b[38;5;28;01mfrom\u001b[39;00m \u001b[38;5;21;01mimblearn\u001b[39;00m\u001b[38;5;21;01m.\u001b[39;00m\u001b[38;5;21;01mover_sampling\u001b[39;00m \u001b[38;5;28;01mimport\u001b[39;00m SMOTE\n",
      "File \u001b[1;32m~\\AppData\\Local\\Programs\\Python\\Python38\\lib\\site-packages\\imblearn\\__init__.py:52\u001b[0m, in \u001b[0;36m<module>\u001b[1;34m\u001b[0m\n\u001b[0;32m     48\u001b[0m     sys\u001b[38;5;241m.\u001b[39mstderr\u001b[38;5;241m.\u001b[39mwrite(\u001b[38;5;124m\"\u001b[39m\u001b[38;5;124mPartial import of imblearn during the build process.\u001b[39m\u001b[38;5;130;01m\\n\u001b[39;00m\u001b[38;5;124m\"\u001b[39m)\n\u001b[0;32m     49\u001b[0m     \u001b[38;5;66;03m# We are not importing the rest of scikit-learn during the build\u001b[39;00m\n\u001b[0;32m     50\u001b[0m     \u001b[38;5;66;03m# process, as it may not be compiled yet\u001b[39;00m\n\u001b[0;32m     51\u001b[0m \u001b[38;5;28;01melse\u001b[39;00m:\n\u001b[1;32m---> 52\u001b[0m     \u001b[38;5;28;01mfrom\u001b[39;00m \u001b[38;5;21;01m.\u001b[39;00m \u001b[38;5;28;01mimport\u001b[39;00m (\n\u001b[0;32m     53\u001b[0m         combine,\n\u001b[0;32m     54\u001b[0m         ensemble,\n\u001b[0;32m     55\u001b[0m         exceptions,\n\u001b[0;32m     56\u001b[0m         metrics,\n\u001b[0;32m     57\u001b[0m         over_sampling,\n\u001b[0;32m     58\u001b[0m         pipeline,\n\u001b[0;32m     59\u001b[0m         tensorflow,\n\u001b[0;32m     60\u001b[0m         under_sampling,\n\u001b[0;32m     61\u001b[0m         utils,\n\u001b[0;32m     62\u001b[0m     )\n\u001b[0;32m     63\u001b[0m     \u001b[38;5;28;01mfrom\u001b[39;00m \u001b[38;5;21;01m.\u001b[39;00m\u001b[38;5;21;01m_version\u001b[39;00m \u001b[38;5;28;01mimport\u001b[39;00m __version__\n\u001b[0;32m     64\u001b[0m     \u001b[38;5;28;01mfrom\u001b[39;00m \u001b[38;5;21;01m.\u001b[39;00m\u001b[38;5;21;01mbase\u001b[39;00m \u001b[38;5;28;01mimport\u001b[39;00m FunctionSampler\n",
      "File \u001b[1;32m~\\AppData\\Local\\Programs\\Python\\Python38\\lib\\site-packages\\imblearn\\combine\\__init__.py:5\u001b[0m, in \u001b[0;36m<module>\u001b[1;34m\u001b[0m\n\u001b[0;32m      1\u001b[0m \u001b[38;5;124;03m\"\"\"The :mod:`imblearn.combine` provides methods which combine\u001b[39;00m\n\u001b[0;32m      2\u001b[0m \u001b[38;5;124;03mover-sampling and under-sampling.\u001b[39;00m\n\u001b[0;32m      3\u001b[0m \u001b[38;5;124;03m\"\"\"\u001b[39;00m\n\u001b[1;32m----> 5\u001b[0m \u001b[38;5;28;01mfrom\u001b[39;00m \u001b[38;5;21;01m.\u001b[39;00m\u001b[38;5;21;01m_smote_enn\u001b[39;00m \u001b[38;5;28;01mimport\u001b[39;00m SMOTEENN\n\u001b[0;32m      6\u001b[0m \u001b[38;5;28;01mfrom\u001b[39;00m \u001b[38;5;21;01m.\u001b[39;00m\u001b[38;5;21;01m_smote_tomek\u001b[39;00m \u001b[38;5;28;01mimport\u001b[39;00m SMOTETomek\n\u001b[0;32m      8\u001b[0m __all__ \u001b[38;5;241m=\u001b[39m [\u001b[38;5;124m\"\u001b[39m\u001b[38;5;124mSMOTEENN\u001b[39m\u001b[38;5;124m\"\u001b[39m, \u001b[38;5;124m\"\u001b[39m\u001b[38;5;124mSMOTETomek\u001b[39m\u001b[38;5;124m\"\u001b[39m]\n",
      "File \u001b[1;32m~\\AppData\\Local\\Programs\\Python\\Python38\\lib\\site-packages\\imblearn\\combine\\_smote_enn.py:12\u001b[0m, in \u001b[0;36m<module>\u001b[1;34m\u001b[0m\n\u001b[0;32m      9\u001b[0m \u001b[38;5;28;01mfrom\u001b[39;00m \u001b[38;5;21;01msklearn\u001b[39;00m\u001b[38;5;21;01m.\u001b[39;00m\u001b[38;5;21;01mbase\u001b[39;00m \u001b[38;5;28;01mimport\u001b[39;00m clone\n\u001b[0;32m     10\u001b[0m \u001b[38;5;28;01mfrom\u001b[39;00m \u001b[38;5;21;01msklearn\u001b[39;00m\u001b[38;5;21;01m.\u001b[39;00m\u001b[38;5;21;01mutils\u001b[39;00m \u001b[38;5;28;01mimport\u001b[39;00m check_X_y\n\u001b[1;32m---> 12\u001b[0m \u001b[38;5;28;01mfrom\u001b[39;00m \u001b[38;5;21;01m.\u001b[39;00m\u001b[38;5;21;01m.\u001b[39;00m\u001b[38;5;21;01mbase\u001b[39;00m \u001b[38;5;28;01mimport\u001b[39;00m BaseSampler\n\u001b[0;32m     13\u001b[0m \u001b[38;5;28;01mfrom\u001b[39;00m \u001b[38;5;21;01m.\u001b[39;00m\u001b[38;5;21;01m.\u001b[39;00m\u001b[38;5;21;01mover_sampling\u001b[39;00m \u001b[38;5;28;01mimport\u001b[39;00m SMOTE\n\u001b[0;32m     14\u001b[0m \u001b[38;5;28;01mfrom\u001b[39;00m \u001b[38;5;21;01m.\u001b[39;00m\u001b[38;5;21;01m.\u001b[39;00m\u001b[38;5;21;01mover_sampling\u001b[39;00m\u001b[38;5;21;01m.\u001b[39;00m\u001b[38;5;21;01mbase\u001b[39;00m \u001b[38;5;28;01mimport\u001b[39;00m BaseOverSampler\n",
      "File \u001b[1;32m~\\AppData\\Local\\Programs\\Python\\Python38\\lib\\site-packages\\imblearn\\base.py:16\u001b[0m, in \u001b[0;36m<module>\u001b[1;34m\u001b[0m\n\u001b[0;32m     14\u001b[0m     \u001b[38;5;28;01mfrom\u001b[39;00m \u001b[38;5;21;01msklearn\u001b[39;00m\u001b[38;5;21;01m.\u001b[39;00m\u001b[38;5;21;01mbase\u001b[39;00m \u001b[38;5;28;01mimport\u001b[39;00m OneToOneFeatureMixin\n\u001b[0;32m     15\u001b[0m \u001b[38;5;28;01mexcept\u001b[39;00m \u001b[38;5;167;01mImportError\u001b[39;00m:\n\u001b[1;32m---> 16\u001b[0m     \u001b[38;5;28;01mfrom\u001b[39;00m \u001b[38;5;21;01msklearn\u001b[39;00m\u001b[38;5;21;01m.\u001b[39;00m\u001b[38;5;21;01mbase\u001b[39;00m \u001b[38;5;28;01mimport\u001b[39;00m _OneToOneFeatureMixin \u001b[38;5;28;01mas\u001b[39;00m OneToOneFeatureMixin\n\u001b[0;32m     17\u001b[0m \u001b[38;5;28;01mfrom\u001b[39;00m \u001b[38;5;21;01msklearn\u001b[39;00m\u001b[38;5;21;01m.\u001b[39;00m\u001b[38;5;21;01mpreprocessing\u001b[39;00m \u001b[38;5;28;01mimport\u001b[39;00m label_binarize\n\u001b[0;32m     18\u001b[0m \u001b[38;5;28;01mfrom\u001b[39;00m \u001b[38;5;21;01msklearn\u001b[39;00m\u001b[38;5;21;01m.\u001b[39;00m\u001b[38;5;21;01mutils\u001b[39;00m\u001b[38;5;21;01m.\u001b[39;00m\u001b[38;5;21;01mmulticlass\u001b[39;00m \u001b[38;5;28;01mimport\u001b[39;00m check_classification_targets\n",
      "\u001b[1;31mImportError\u001b[0m: cannot import name '_OneToOneFeatureMixin' from 'sklearn.base' (C:\\Users\\Ricardo\\AppData\\Local\\Programs\\Python\\Python38\\lib\\site-packages\\sklearn\\base.py)"
     ]
    }
   ],
   "source": [
    "#biblioteca para balancear os dados utilizando over_sampling\n",
    "from imblearn.over_sampling import SMOTE"
   ]
  },
  {
   "cell_type": "code",
   "execution_count": null,
   "metadata": {
    "id": "0-I2aDVhQUdu"
   },
   "outputs": [],
   "source": [
    "#dividindo os dados em caracteristicas e target\n",
    "X = dados_final.drop('Churn', axis = 1)\n",
    "y = dados_final['Churn']"
   ]
  },
  {
   "cell_type": "code",
   "execution_count": null,
   "metadata": {
    "id": "5lIY03boZyBN"
   },
   "outputs": [],
   "source": [
    "smt = SMOTE(random_state=123)\n",
    "X, y = smt.fit_resample(X, y)"
   ]
  },
  {
   "cell_type": "code",
   "execution_count": null,
   "metadata": {
    "id": "bnlqzLVUZl0u"
   },
   "outputs": [],
   "source": [
    "#junção dos dados balanceados\n",
    "dados_final = pd.concat([X, y], axis=1)"
   ]
  },
  {
   "cell_type": "code",
   "execution_count": null,
   "metadata": {
    "colab": {
     "base_uri": "https://localhost:8080/"
    },
    "executionInfo": {
     "elapsed": 10,
     "status": "ok",
     "timestamp": 1652934139284,
     "user": {
      "displayName": "Ana Clara Mioto",
      "userId": "02280775085590012326"
     },
     "user_tz": 180
    },
    "id": "GQj3bEEOZ42e",
    "outputId": "a0caee8f-cfa7-4c10-9260-a3e3dcd92857"
   },
   "outputs": [],
   "source": [
    "#verificação 1 - junção dos dados\n",
    "dados_final.head(2)"
   ]
  },
  {
   "cell_type": "code",
   "execution_count": null,
   "metadata": {
    "colab": {
     "base_uri": "https://localhost:8080/"
    },
    "executionInfo": {
     "elapsed": 453,
     "status": "ok",
     "timestamp": 1652934139732,
     "user": {
      "displayName": "Ana Clara Mioto",
      "userId": "02280775085590012326"
     },
     "user_tz": 180
    },
    "id": "jSzaHOlyZ7r-",
    "outputId": "ab7037ba-022f-4091-a9b2-cafbec5ea7e7"
   },
   "outputs": [],
   "source": [
    "#verificação 2 - balanceamento\n",
    "ax = sns.countplot(x='Churn', data=dados_final)"
   ]
  },
  {
   "cell_type": "code",
   "execution_count": null,
   "metadata": {
    "colab": {
     "base_uri": "https://localhost:8080/"
    },
    "executionInfo": {
     "elapsed": 15,
     "status": "ok",
     "timestamp": 1652934139732,
     "user": {
      "displayName": "Ana Clara Mioto",
      "userId": "02280775085590012326"
     },
     "user_tz": 180
    },
    "id": "Zx0HYHd3RGl7",
    "outputId": "a89570d4-2f64-477b-d3ec-01cd5e1eefb8"
   },
   "outputs": [],
   "source": [
    "dados_final.Churn.value_counts()"
   ]
  },
  {
   "cell_type": "markdown",
   "metadata": {
    "id": "_d4jEXubcPuO"
   },
   "source": [
    "# Aula 2 - Método baseado na proximidade"
   ]
  },
  {
   "cell_type": "markdown",
   "metadata": {
    "id": "PVGb9U19cW4V"
   },
   "source": [
    "## 2.1 - Modelo K-nearest neighbors (KNN)\n",
    "\n",
    "(Slides)"
   ]
  },
  {
   "cell_type": "markdown",
   "metadata": {
    "id": "MvIfmyE2ckVV"
   },
   "source": [
    "## 2.2 - KNN por trás dos panos"
   ]
  },
  {
   "cell_type": "code",
   "execution_count": null,
   "metadata": {
    "colab": {
     "base_uri": "https://localhost:8080/"
    },
    "executionInfo": {
     "elapsed": 13,
     "status": "ok",
     "timestamp": 1652934139732,
     "user": {
      "displayName": "Ana Clara Mioto",
      "userId": "02280775085590012326"
     },
     "user_tz": 180
    },
    "id": "blRWRPdXcWJ1",
    "outputId": "882ea1f1-3a9a-4980-9f7d-32d41c637704"
   },
   "outputs": [],
   "source": [
    "Xmaria"
   ]
  },
  {
   "cell_type": "code",
   "execution_count": null,
   "metadata": {
    "id": "tdwhZOphjbIg"
   },
   "outputs": [],
   "source": [
    "#ymaria = ?"
   ]
  },
  {
   "cell_type": "code",
   "execution_count": null,
   "metadata": {
    "id": "h0re3ABxjlLW"
   },
   "outputs": [],
   "source": [
    "#Divisão em inputs e outputs\n",
    "X = dados_final.drop('Churn', axis = 1)\n",
    "y = dados_final['Churn']"
   ]
  },
  {
   "cell_type": "code",
   "execution_count": null,
   "metadata": {
    "id": "cw_-29nlkLMV"
   },
   "outputs": [],
   "source": [
    "#biblioteca para padronizar os dados\n",
    "from sklearn.preprocessing import StandardScaler"
   ]
  },
  {
   "cell_type": "code",
   "execution_count": null,
   "metadata": {
    "colab": {
     "base_uri": "https://localhost:8080/"
    },
    "executionInfo": {
     "elapsed": 14,
     "status": "ok",
     "timestamp": 1652934139734,
     "user": {
      "displayName": "Ana Clara Mioto",
      "userId": "02280775085590012326"
     },
     "user_tz": 180
    },
    "id": "zGYhtla_kgpd",
    "outputId": "9ce482bf-b92d-44f5-d7c6-bed901c3aca4"
   },
   "outputs": [],
   "source": [
    "norm = StandardScaler()\n",
    "\n",
    "X_normalizado = norm.fit_transform(X)\n",
    "X_normalizado"
   ]
  },
  {
   "cell_type": "code",
   "execution_count": null,
   "metadata": {
    "colab": {
     "base_uri": "https://localhost:8080/"
    },
    "executionInfo": {
     "elapsed": 12,
     "status": "ok",
     "timestamp": 1652934139734,
     "user": {
      "displayName": "Ana Clara Mioto",
      "userId": "02280775085590012326"
     },
     "user_tz": 180
    },
    "id": "Cs-ivgv7qsKL",
    "outputId": "100c3de8-33c7-45d2-a671-33f4b72a4695"
   },
   "outputs": [],
   "source": [
    "X_normalizado[0]"
   ]
  },
  {
   "cell_type": "code",
   "execution_count": null,
   "metadata": {
    "colab": {
     "base_uri": "https://localhost:8080/"
    },
    "executionInfo": {
     "elapsed": 11,
     "status": "ok",
     "timestamp": 1652934139734,
     "user": {
      "displayName": "Ana Clara Mioto",
      "userId": "02280775085590012326"
     },
     "user_tz": 180
    },
    "id": "Ll6FnFO-kosd",
    "outputId": "1ef0ba4e-e962-45fa-fae8-746a20d7c157"
   },
   "outputs": [],
   "source": [
    "Xmaria_normalizado = norm.transform(pd.DataFrame(Xmaria, columns = X.columns))\n",
    "Xmaria_normalizado"
   ]
  },
  {
   "cell_type": "markdown",
   "metadata": {
    "id": "pgU6OxezlB_F"
   },
   "source": [
    "Distância Euclidiana:\n",
    "\n",
    "$$\\sqrt{\\sum_{i=1}^k(a_{i}-b_{i})^2}$$"
   ]
  },
  {
   "cell_type": "code",
   "execution_count": null,
   "metadata": {
    "id": "SbxwDdiIk36F"
   },
   "outputs": [],
   "source": [
    "import numpy as np"
   ]
  },
  {
   "cell_type": "code",
   "execution_count": null,
   "metadata": {
    "id": "9oywjidemxXl"
   },
   "outputs": [],
   "source": [
    "a = Xmaria_normalizado"
   ]
  },
  {
   "cell_type": "code",
   "execution_count": null,
   "metadata": {
    "id": "JL85j369li4d"
   },
   "outputs": [],
   "source": [
    "b = X_normalizado[0]"
   ]
  },
  {
   "cell_type": "code",
   "execution_count": null,
   "metadata": {
    "colab": {
     "base_uri": "https://localhost:8080/"
    },
    "executionInfo": {
     "elapsed": 10,
     "status": "ok",
     "timestamp": 1652934139735,
     "user": {
      "displayName": "Ana Clara Mioto",
      "userId": "02280775085590012326"
     },
     "user_tz": 180
    },
    "id": "mmhEqixanDgF",
    "outputId": "7efb3053-ca9e-4e32-9701-c0290843dfa1"
   },
   "outputs": [],
   "source": [
    "#1 - começamos subtraindo \n",
    "a - b"
   ]
  },
  {
   "cell_type": "code",
   "execution_count": null,
   "metadata": {
    "colab": {
     "base_uri": "https://localhost:8080/"
    },
    "executionInfo": {
     "elapsed": 9,
     "status": "ok",
     "timestamp": 1652934139735,
     "user": {
      "displayName": "Ana Clara Mioto",
      "userId": "02280775085590012326"
     },
     "user_tz": 180
    },
    "id": "_aBlq3wPnF49",
    "outputId": "535f2626-6f3c-47c0-a939-298aa6498ebd"
   },
   "outputs": [],
   "source": [
    "#2 - depois realizamos a exponenciação\n",
    "np.square(a-b)"
   ]
  },
  {
   "cell_type": "code",
   "execution_count": null,
   "metadata": {
    "colab": {
     "base_uri": "https://localhost:8080/"
    },
    "executionInfo": {
     "elapsed": 289,
     "status": "ok",
     "timestamp": 1652934140016,
     "user": {
      "displayName": "Ana Clara Mioto",
      "userId": "02280775085590012326"
     },
     "user_tz": 180
    },
    "id": "_bDEeU_znIxH",
    "outputId": "4a4f82a2-b628-42a5-9b1e-661d36c11922"
   },
   "outputs": [],
   "source": [
    "#3 - a soma \n",
    "np.sum(np.square(a-b))"
   ]
  },
  {
   "cell_type": "code",
   "execution_count": null,
   "metadata": {
    "colab": {
     "base_uri": "https://localhost:8080/"
    },
    "executionInfo": {
     "elapsed": 15,
     "status": "ok",
     "timestamp": 1652934140016,
     "user": {
      "displayName": "Ana Clara Mioto",
      "userId": "02280775085590012326"
     },
     "user_tz": 180
    },
    "id": "o9NJQSP-nMUm",
    "outputId": "cbb125fe-b758-45b2-a6c5-50ad4c14c37f"
   },
   "outputs": [],
   "source": [
    "#4 - então tiramos a raiz e temos nossa distância\n",
    "np.sqrt(91.70603225977928)"
   ]
  },
  {
   "cell_type": "markdown",
   "metadata": {
    "id": "_h0pFQfxwYW-"
   },
   "source": [
    "## 2.3 - Implementando o modelo"
   ]
  },
  {
   "cell_type": "code",
   "execution_count": null,
   "metadata": {
    "id": "XtvZ-tMiwjN2"
   },
   "outputs": [],
   "source": [
    "#biblioteca para divisão dos dados\n",
    "from sklearn.model_selection import train_test_split"
   ]
  },
  {
   "cell_type": "code",
   "execution_count": null,
   "metadata": {
    "id": "lWaKqJrTwxE-"
   },
   "outputs": [],
   "source": [
    "X_treino, X_teste, y_treino, y_teste = train_test_split(X_normalizado, y, test_size=0.3, random_state=123)"
   ]
  },
  {
   "cell_type": "markdown",
   "metadata": {
    "id": "LOKzwv4Uw0u7"
   },
   "source": [
    "### Treino e teste "
   ]
  },
  {
   "cell_type": "code",
   "execution_count": null,
   "metadata": {
    "id": "g6-t-BpEwy3G"
   },
   "outputs": [],
   "source": [
    "#biblioteca para criarmos o modelo de machine learning\n",
    "from sklearn.neighbors import KNeighborsClassifier"
   ]
  },
  {
   "cell_type": "code",
   "execution_count": null,
   "metadata": {
    "id": "qFs4VHnhw4-O"
   },
   "outputs": [],
   "source": [
    "#instanciar o modelo (criamos o modelo) - por padrão são 5 vizinhos  \n",
    "knn = KNeighborsClassifier(metric='euclidean')"
   ]
  },
  {
   "cell_type": "code",
   "execution_count": null,
   "metadata": {
    "colab": {
     "base_uri": "https://localhost:8080/"
    },
    "executionInfo": {
     "elapsed": 10,
     "status": "ok",
     "timestamp": 1652934140018,
     "user": {
      "displayName": "Ana Clara Mioto",
      "userId": "02280775085590012326"
     },
     "user_tz": 180
    },
    "id": "H05zbtgIw6gt",
    "outputId": "59679cd7-37cd-4885-cc00-4903d7529bd3"
   },
   "outputs": [],
   "source": [
    "#treinando o modelo com os dados de treino\n",
    "knn.fit(X_treino, y_treino)"
   ]
  },
  {
   "cell_type": "code",
   "execution_count": null,
   "metadata": {
    "id": "2LrZiJbvw-Mf"
   },
   "outputs": [],
   "source": [
    "#testando o modelo com os dados de teste\n",
    "predito_knn = knn.predict(X_teste)"
   ]
  },
  {
   "cell_type": "code",
   "execution_count": null,
   "metadata": {
    "colab": {
     "base_uri": "https://localhost:8080/"
    },
    "executionInfo": {
     "elapsed": 13,
     "status": "ok",
     "timestamp": 1652934140688,
     "user": {
      "displayName": "Ana Clara Mioto",
      "userId": "02280775085590012326"
     },
     "user_tz": 180
    },
    "id": "dirCpdIO1MZ9",
    "outputId": "3acd541b-075c-4c77-e2f8-526ee4c96a53"
   },
   "outputs": [],
   "source": [
    "predito_knn"
   ]
  },
  {
   "cell_type": "markdown",
   "metadata": {
    "id": "EKHFh1Pr7G40"
   },
   "source": [
    "# Aula 3 - Método probabilístico"
   ]
  },
  {
   "cell_type": "markdown",
   "metadata": {
    "id": "b_EAQ1nf7VUu"
   },
   "source": [
    "## 3.1 - Teorema de Naive Bayes \n",
    "\n",
    "(slides)"
   ]
  },
  {
   "cell_type": "markdown",
   "metadata": {
    "id": "02cUbMWf7dEN"
   },
   "source": [
    "## 3.2 - Modelo Bernoulli Naive Bayes\n",
    "\n",
    "(slides)"
   ]
  },
  {
   "cell_type": "markdown",
   "metadata": {
    "id": "zIhV625O7lf9"
   },
   "source": [
    "## 3.3 - Treinamento e teste"
   ]
  },
  {
   "cell_type": "code",
   "execution_count": null,
   "metadata": {
    "id": "vV4i1JC37xJN"
   },
   "outputs": [],
   "source": [
    "#biblioteca para criarmos o modelo de machine learning\n",
    "from sklearn.naive_bayes import BernoulliNB"
   ]
  },
  {
   "cell_type": "code",
   "execution_count": null,
   "metadata": {
    "id": "KnTnDve07ylb"
   },
   "outputs": [],
   "source": [
    "#criamos o modelo\n",
    "bnb = BernoulliNB(binarize=-0.44)"
   ]
  },
  {
   "cell_type": "code",
   "execution_count": null,
   "metadata": {
    "colab": {
     "base_uri": "https://localhost:8080/"
    },
    "executionInfo": {
     "elapsed": 9,
     "status": "ok",
     "timestamp": 1652934140689,
     "user": {
      "displayName": "Ana Clara Mioto",
      "userId": "02280775085590012326"
     },
     "user_tz": 180
    },
    "id": "AEzm1GSZ7tZZ",
    "outputId": "32de87f1-a895-431d-f6a8-600109a78ec5"
   },
   "outputs": [],
   "source": [
    "#escolho utilizar mediana, porque é o valor central dos nossos dados ordenados\n",
    "np.median(X_treino)"
   ]
  },
  {
   "cell_type": "code",
   "execution_count": null,
   "metadata": {
    "colab": {
     "base_uri": "https://localhost:8080/"
    },
    "executionInfo": {
     "elapsed": 7,
     "status": "ok",
     "timestamp": 1652934140689,
     "user": {
      "displayName": "Ana Clara Mioto",
      "userId": "02280775085590012326"
     },
     "user_tz": 180
    },
    "id": "e5HdbyA27cUJ",
    "outputId": "41ca216f-2b25-43f9-e507-a8dd8d3f4571"
   },
   "outputs": [],
   "source": [
    "X_treino"
   ]
  },
  {
   "cell_type": "code",
   "execution_count": null,
   "metadata": {
    "colab": {
     "base_uri": "https://localhost:8080/"
    },
    "executionInfo": {
     "elapsed": 6,
     "status": "ok",
     "timestamp": 1652934140689,
     "user": {
      "displayName": "Ana Clara Mioto",
      "userId": "02280775085590012326"
     },
     "user_tz": 180
    },
    "id": "HevdnXNV7rPg",
    "outputId": "acaeb6b2-b82b-4340-c917-db9059a9f906"
   },
   "outputs": [],
   "source": [
    "y_treino"
   ]
  },
  {
   "cell_type": "code",
   "execution_count": null,
   "metadata": {
    "colab": {
     "base_uri": "https://localhost:8080/"
    },
    "executionInfo": {
     "elapsed": 5,
     "status": "ok",
     "timestamp": 1652934140689,
     "user": {
      "displayName": "Ana Clara Mioto",
      "userId": "02280775085590012326"
     },
     "user_tz": 180
    },
    "id": "qIIT0uX273SN",
    "outputId": "690b80ba-8543-4b97-cad4-82c7e6ee156f"
   },
   "outputs": [],
   "source": [
    "#treinar o modelo\n",
    "bnb.fit(X_treino, y_treino)"
   ]
  },
  {
   "cell_type": "code",
   "execution_count": null,
   "metadata": {
    "id": "BpCOWhx674G6"
   },
   "outputs": [],
   "source": [
    "#testar o modelo\n",
    "predito_BNb = bnb.predict(X_teste)"
   ]
  },
  {
   "cell_type": "code",
   "execution_count": null,
   "metadata": {
    "colab": {
     "base_uri": "https://localhost:8080/"
    },
    "executionInfo": {
     "elapsed": 5,
     "status": "ok",
     "timestamp": 1652934140690,
     "user": {
      "displayName": "Ana Clara Mioto",
      "userId": "02280775085590012326"
     },
     "user_tz": 180
    },
    "id": "KIS6Syvf79ou",
    "outputId": "637d4e84-0735-45d9-ba4d-0e1c48212838"
   },
   "outputs": [],
   "source": [
    "predito_BNb"
   ]
  }
 ],
 "metadata": {
  "colab": {
   "collapsed_sections": [
    "zCcuXt0FZfNe"
   ],
   "name": "Projeto_ML.ipynb",
   "provenance": []
  },
  "interpreter": {
   "hash": "df87b94f50c6b8081a9a425f6ade537f06441a824b7d68371eb29c5a5eb2838b"
  },
  "kernelspec": {
   "display_name": "Python 3 (ipykernel)",
   "language": "python",
   "name": "python3"
  },
  "language_info": {
   "codemirror_mode": {
    "name": "ipython",
    "version": 3
   },
   "file_extension": ".py",
   "mimetype": "text/x-python",
   "name": "python",
   "nbconvert_exporter": "python",
   "pygments_lexer": "ipython3",
   "version": "3.8.10"
  }
 },
 "nbformat": 4,
 "nbformat_minor": 1
}
